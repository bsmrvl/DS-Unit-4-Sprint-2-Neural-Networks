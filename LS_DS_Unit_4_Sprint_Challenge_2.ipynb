{
  "nbformat": 4,
  "nbformat_minor": 0,
  "metadata": {
    "kernelspec": {
      "display_name": "U4-S2-NNF-DS10",
      "language": "python",
      "name": "u4-s2-nnf-ds10"
    },
    "language_info": {
      "codemirror_mode": {
        "name": "ipython",
        "version": 3
      },
      "file_extension": ".py",
      "mimetype": "text/x-python",
      "name": "python",
      "nbconvert_exporter": "python",
      "pygments_lexer": "ipython3",
      "version": "3.7.6"
    },
    "nteract": {
      "version": "0.23.3"
    },
    "colab": {
      "name": "LS_DS_Unit_4_Sprint_Challenge_2.ipynb",
      "provenance": [],
      "collapsed_sections": []
    },
    "accelerator": "GPU"
  },
  "cells": [
    {
      "cell_type": "markdown",
      "metadata": {
        "id": "T4O314FqjBjg"
      },
      "source": [
        "<img align=\"left\" src=\"https://lever-client-logos.s3.amazonaws.com/864372b1-534c-480e-acd5-9711f850815c-1524247202159.png\" width=200>\n",
        "<br></br>\n",
        "<br></br>\n",
        "\n",
        "## *Data Science Unit 4 Sprint 2*\n",
        "\n",
        "# Sprint Challenge - Neural Network Foundations\n",
        "\n",
        "Table of Problems\n",
        "\n",
        "1. [Defining Neural Networks](#Q1)\n",
        "2. [Simple Perceptron](#Q2)\n",
        "    - Perceptron\n",
        "    - Multilayer Perceptron\n",
        "    - Analyze and Compare\n",
        "4. [Keras MMP](#Q3)"
      ]
    },
    {
      "cell_type": "markdown",
      "metadata": {
        "id": "H3s1Nu6CjBji"
      },
      "source": [
        "<a id=\"Q1\"></a>\n",
        "## 1. Defining Neural Networks \n",
        "\n",
        "Write *your own* definitions for the following terms:\n",
        "\n",
        "- **Neuron:** The basic unit which comprises neural networks. Every neuron has 2+ inputs with trainable weights, an overall bias, and a single output.\n",
        "- **Input Layer:** The first layer of a neural network, which must match the dimensionality of the incoming data.\n",
        "- **Hidden Layer:** A layer of neurons unseen by input or output. Does not have to match up with input or output dimensionality.\n",
        "- **Output Layer:** The final layer. In binary classification problems, its dimension is 1, whereas in multi-class problems, its dimension must match the number of classes.\n",
        "- **Activation Function:** The function which calculates the output of each neuron given the weighted, biased inputs. An example is \"Relu\" (rectified linear unit) which looks like y=x with the bottom chopped off."
      ]
    },
    {
      "cell_type": "markdown",
      "metadata": {
        "id": "OjjldNNFjBjj"
      },
      "source": [
        "Explain how back propagation works as if you were explaining it to a five year-old. Use your own words, but feel free to reference external materials for this question. "
      ]
    },
    {
      "cell_type": "markdown",
      "metadata": {
        "id": "EvJbtP-NwGZp"
      },
      "source": [
        "*Back-propagation is when information from the output function gets sent back to alllll these grapes (pointing to massive spread of grapes on table, each one representing a neuron) and tells them how to adjust their juiciness to reach maximum output juice. This happens thousands of times until each grape is contributing just the right amount.*"
      ]
    },
    {
      "cell_type": "markdown",
      "metadata": {
        "id": "cEQI2NKKjBjk"
      },
      "source": [
        "Remember our Simple Perceptron Class from Monday. In a simple prediction describe the process of making a prediction. How do you go from inputs to predicted output."
      ]
    },
    {
      "cell_type": "markdown",
      "metadata": {
        "id": "eNQPG8s7xVEx"
      },
      "source": [
        "*The simplest perceptron takes two inputs, which are first scaled by the weights learned during training. These weighted values are then both added to a single bias value, and finally plugged into the activation function, which spits out the single output.*"
      ]
    },
    {
      "cell_type": "markdown",
      "metadata": {
        "id": "e41C6aP_jBjl"
      },
      "source": [
        "<a id=\"Q2\"></a>\n",
        "## 2. Simple Perceptron\n",
        "\n",
        "In this question, you will build two neural networks using Tensorflow Keras. After you build these two models, compare the results of the model."
      ]
    },
    {
      "cell_type": "code",
      "metadata": {
        "id": "bHFQq5PZjBjl"
      },
      "source": [
        "\"\"\"\n",
        "Our Dataset\n",
        "\"\"\"\n",
        "import numpy as np\n",
        "\n",
        "xx, yy = np.meshgrid(np.linspace(-3, 3, 50),\n",
        "                     np.linspace(-3, 3, 50))\n",
        "rng = np.random.RandomState(0)\n",
        "\n",
        "\"Use this X & y in the following 2 models\"\n",
        "X = rng.randn(300, 2)\n",
        "y = np.array(np.logical_xor(X[:, 0] > 0, X[:, 1] > 0), \n",
        "             dtype=int)"
      ],
      "execution_count": 1,
      "outputs": []
    },
    {
      "cell_type": "code",
      "metadata": {
        "colab": {
          "base_uri": "https://localhost:8080/"
        },
        "id": "ftO6b8FUjhNL",
        "outputId": "d205f91c-ccf6-46c7-eea1-19661459be6f"
      },
      "source": [
        "X.shape"
      ],
      "execution_count": 3,
      "outputs": [
        {
          "output_type": "execute_result",
          "data": {
            "text/plain": [
              "(300, 2)"
            ]
          },
          "metadata": {
            "tags": []
          },
          "execution_count": 3
        }
      ]
    },
    {
      "cell_type": "markdown",
      "metadata": {
        "id": "ZrG7OCn0jBjl"
      },
      "source": [
        "### Simple Perceptron\n",
        "Construct a simple perceptron using Keras. You model should have 1 dense layer with a single neuron and a sigmoid activation function. Your model should be called `model1` and make sure to save the results of your fit statement to a variable called `h1`. "
      ]
    },
    {
      "cell_type": "code",
      "metadata": {
        "id": "-twVdyGyjTRK"
      },
      "source": [
        "from tensorflow.keras.models import Sequential\r\n",
        "from tensorflow.keras.layers import Dense, Dropout"
      ],
      "execution_count": 69,
      "outputs": []
    },
    {
      "cell_type": "code",
      "metadata": {
        "colab": {
          "base_uri": "https://localhost:8080/"
        },
        "id": "w2cYvNsXjBjm",
        "outputId": "3b99467c-b892-4e03-c900-6e706328095e"
      },
      "source": [
        "model1 = Sequential()\n",
        "\n",
        "model1.add(Dense(1, activation='sigmoid', input_dim=2))\n",
        "\n",
        "model1.compile(\n",
        "    optimizer='adam',\n",
        "    loss='binary_crossentropy',\n",
        "    metrics=['accuracy']\n",
        ")\n",
        "\n",
        "h1 = model1.fit(\n",
        "    X, y,\n",
        "    epochs=100\n",
        ")"
      ],
      "execution_count": 20,
      "outputs": [
        {
          "output_type": "stream",
          "text": [
            "Epoch 1/100\n",
            "10/10 [==============================] - 0s 2ms/step - loss: 0.7658 - accuracy: 0.4367\n",
            "Epoch 2/100\n",
            "10/10 [==============================] - 0s 2ms/step - loss: 0.7636 - accuracy: 0.4367\n",
            "Epoch 3/100\n",
            "10/10 [==============================] - 0s 2ms/step - loss: 0.7617 - accuracy: 0.4367\n",
            "Epoch 4/100\n",
            "10/10 [==============================] - 0s 2ms/step - loss: 0.7596 - accuracy: 0.4367\n",
            "Epoch 5/100\n",
            "10/10 [==============================] - 0s 2ms/step - loss: 0.7578 - accuracy: 0.4333\n",
            "Epoch 6/100\n",
            "10/10 [==============================] - 0s 2ms/step - loss: 0.7559 - accuracy: 0.4333\n",
            "Epoch 7/100\n",
            "10/10 [==============================] - 0s 2ms/step - loss: 0.7540 - accuracy: 0.4333\n",
            "Epoch 8/100\n",
            "10/10 [==============================] - 0s 3ms/step - loss: 0.7523 - accuracy: 0.4367\n",
            "Epoch 9/100\n",
            "10/10 [==============================] - 0s 2ms/step - loss: 0.7507 - accuracy: 0.4400\n",
            "Epoch 10/100\n",
            "10/10 [==============================] - 0s 2ms/step - loss: 0.7489 - accuracy: 0.4400\n",
            "Epoch 11/100\n",
            "10/10 [==============================] - 0s 2ms/step - loss: 0.7473 - accuracy: 0.4400\n",
            "Epoch 12/100\n",
            "10/10 [==============================] - 0s 2ms/step - loss: 0.7457 - accuracy: 0.4467\n",
            "Epoch 13/100\n",
            "10/10 [==============================] - 0s 2ms/step - loss: 0.7441 - accuracy: 0.4467\n",
            "Epoch 14/100\n",
            "10/10 [==============================] - 0s 2ms/step - loss: 0.7424 - accuracy: 0.4500\n",
            "Epoch 15/100\n",
            "10/10 [==============================] - 0s 3ms/step - loss: 0.7409 - accuracy: 0.4533\n",
            "Epoch 16/100\n",
            "10/10 [==============================] - 0s 2ms/step - loss: 0.7393 - accuracy: 0.4567\n",
            "Epoch 17/100\n",
            "10/10 [==============================] - 0s 2ms/step - loss: 0.7376 - accuracy: 0.4633\n",
            "Epoch 18/100\n",
            "10/10 [==============================] - 0s 2ms/step - loss: 0.7362 - accuracy: 0.4633\n",
            "Epoch 19/100\n",
            "10/10 [==============================] - 0s 2ms/step - loss: 0.7347 - accuracy: 0.4667\n",
            "Epoch 20/100\n",
            "10/10 [==============================] - 0s 2ms/step - loss: 0.7332 - accuracy: 0.4667\n",
            "Epoch 21/100\n",
            "10/10 [==============================] - 0s 2ms/step - loss: 0.7318 - accuracy: 0.4667\n",
            "Epoch 22/100\n",
            "10/10 [==============================] - 0s 2ms/step - loss: 0.7305 - accuracy: 0.4667\n",
            "Epoch 23/100\n",
            "10/10 [==============================] - 0s 2ms/step - loss: 0.7289 - accuracy: 0.4700\n",
            "Epoch 24/100\n",
            "10/10 [==============================] - 0s 2ms/step - loss: 0.7277 - accuracy: 0.4667\n",
            "Epoch 25/100\n",
            "10/10 [==============================] - 0s 2ms/step - loss: 0.7264 - accuracy: 0.4767\n",
            "Epoch 26/100\n",
            "10/10 [==============================] - 0s 2ms/step - loss: 0.7252 - accuracy: 0.4733\n",
            "Epoch 27/100\n",
            "10/10 [==============================] - 0s 3ms/step - loss: 0.7241 - accuracy: 0.4733\n",
            "Epoch 28/100\n",
            "10/10 [==============================] - 0s 2ms/step - loss: 0.7231 - accuracy: 0.4733\n",
            "Epoch 29/100\n",
            "10/10 [==============================] - 0s 2ms/step - loss: 0.7219 - accuracy: 0.4733\n",
            "Epoch 30/100\n",
            "10/10 [==============================] - 0s 2ms/step - loss: 0.7209 - accuracy: 0.4733\n",
            "Epoch 31/100\n",
            "10/10 [==============================] - 0s 2ms/step - loss: 0.7198 - accuracy: 0.4700\n",
            "Epoch 32/100\n",
            "10/10 [==============================] - 0s 2ms/step - loss: 0.7188 - accuracy: 0.4700\n",
            "Epoch 33/100\n",
            "10/10 [==============================] - 0s 2ms/step - loss: 0.7178 - accuracy: 0.4733\n",
            "Epoch 34/100\n",
            "10/10 [==============================] - 0s 2ms/step - loss: 0.7169 - accuracy: 0.4700\n",
            "Epoch 35/100\n",
            "10/10 [==============================] - 0s 3ms/step - loss: 0.7159 - accuracy: 0.4633\n",
            "Epoch 36/100\n",
            "10/10 [==============================] - 0s 2ms/step - loss: 0.7151 - accuracy: 0.4533\n",
            "Epoch 37/100\n",
            "10/10 [==============================] - 0s 3ms/step - loss: 0.7143 - accuracy: 0.4467\n",
            "Epoch 38/100\n",
            "10/10 [==============================] - 0s 2ms/step - loss: 0.7133 - accuracy: 0.4400\n",
            "Epoch 39/100\n",
            "10/10 [==============================] - 0s 2ms/step - loss: 0.7125 - accuracy: 0.4367\n",
            "Epoch 40/100\n",
            "10/10 [==============================] - 0s 3ms/step - loss: 0.7118 - accuracy: 0.4300\n",
            "Epoch 41/100\n",
            "10/10 [==============================] - 0s 3ms/step - loss: 0.7108 - accuracy: 0.4233\n",
            "Epoch 42/100\n",
            "10/10 [==============================] - 0s 3ms/step - loss: 0.7101 - accuracy: 0.4233\n",
            "Epoch 43/100\n",
            "10/10 [==============================] - 0s 3ms/step - loss: 0.7093 - accuracy: 0.4267\n",
            "Epoch 44/100\n",
            "10/10 [==============================] - 0s 2ms/step - loss: 0.7084 - accuracy: 0.4267\n",
            "Epoch 45/100\n",
            "10/10 [==============================] - 0s 2ms/step - loss: 0.7078 - accuracy: 0.4300\n",
            "Epoch 46/100\n",
            "10/10 [==============================] - 0s 3ms/step - loss: 0.7072 - accuracy: 0.4267\n",
            "Epoch 47/100\n",
            "10/10 [==============================] - 0s 2ms/step - loss: 0.7065 - accuracy: 0.4267\n",
            "Epoch 48/100\n",
            "10/10 [==============================] - 0s 2ms/step - loss: 0.7058 - accuracy: 0.4267\n",
            "Epoch 49/100\n",
            "10/10 [==============================] - 0s 2ms/step - loss: 0.7053 - accuracy: 0.4167\n",
            "Epoch 50/100\n",
            "10/10 [==============================] - 0s 2ms/step - loss: 0.7046 - accuracy: 0.4133\n",
            "Epoch 51/100\n",
            "10/10 [==============================] - 0s 2ms/step - loss: 0.7040 - accuracy: 0.4167\n",
            "Epoch 52/100\n",
            "10/10 [==============================] - 0s 2ms/step - loss: 0.7034 - accuracy: 0.4167\n",
            "Epoch 53/100\n",
            "10/10 [==============================] - 0s 3ms/step - loss: 0.7030 - accuracy: 0.4133\n",
            "Epoch 54/100\n",
            "10/10 [==============================] - 0s 2ms/step - loss: 0.7025 - accuracy: 0.4133\n",
            "Epoch 55/100\n",
            "10/10 [==============================] - 0s 3ms/step - loss: 0.7019 - accuracy: 0.4067\n",
            "Epoch 56/100\n",
            "10/10 [==============================] - 0s 3ms/step - loss: 0.7014 - accuracy: 0.4067\n",
            "Epoch 57/100\n",
            "10/10 [==============================] - 0s 3ms/step - loss: 0.7010 - accuracy: 0.4133\n",
            "Epoch 58/100\n",
            "10/10 [==============================] - 0s 2ms/step - loss: 0.7004 - accuracy: 0.4067\n",
            "Epoch 59/100\n",
            "10/10 [==============================] - 0s 2ms/step - loss: 0.6999 - accuracy: 0.4100\n",
            "Epoch 60/100\n",
            "10/10 [==============================] - 0s 2ms/step - loss: 0.6995 - accuracy: 0.4100\n",
            "Epoch 61/100\n",
            "10/10 [==============================] - 0s 2ms/step - loss: 0.6990 - accuracy: 0.4133\n",
            "Epoch 62/100\n",
            "10/10 [==============================] - 0s 2ms/step - loss: 0.6986 - accuracy: 0.4200\n",
            "Epoch 63/100\n",
            "10/10 [==============================] - 0s 2ms/step - loss: 0.6981 - accuracy: 0.4167\n",
            "Epoch 64/100\n",
            "10/10 [==============================] - 0s 2ms/step - loss: 0.6976 - accuracy: 0.4167\n",
            "Epoch 65/100\n",
            "10/10 [==============================] - 0s 2ms/step - loss: 0.6973 - accuracy: 0.4033\n",
            "Epoch 66/100\n",
            "10/10 [==============================] - 0s 2ms/step - loss: 0.6968 - accuracy: 0.4100\n",
            "Epoch 67/100\n",
            "10/10 [==============================] - 0s 2ms/step - loss: 0.6965 - accuracy: 0.4100\n",
            "Epoch 68/100\n",
            "10/10 [==============================] - 0s 2ms/step - loss: 0.6961 - accuracy: 0.4067\n",
            "Epoch 69/100\n",
            "10/10 [==============================] - 0s 2ms/step - loss: 0.6957 - accuracy: 0.4233\n",
            "Epoch 70/100\n",
            "10/10 [==============================] - 0s 2ms/step - loss: 0.6954 - accuracy: 0.4300\n",
            "Epoch 71/100\n",
            "10/10 [==============================] - 0s 2ms/step - loss: 0.6951 - accuracy: 0.4200\n",
            "Epoch 72/100\n",
            "10/10 [==============================] - 0s 2ms/step - loss: 0.6948 - accuracy: 0.4167\n",
            "Epoch 73/100\n",
            "10/10 [==============================] - 0s 3ms/step - loss: 0.6945 - accuracy: 0.4200\n",
            "Epoch 74/100\n",
            "10/10 [==============================] - 0s 2ms/step - loss: 0.6942 - accuracy: 0.4233\n",
            "Epoch 75/100\n",
            "10/10 [==============================] - 0s 2ms/step - loss: 0.6939 - accuracy: 0.4333\n",
            "Epoch 76/100\n",
            "10/10 [==============================] - 0s 2ms/step - loss: 0.6937 - accuracy: 0.4300\n",
            "Epoch 77/100\n",
            "10/10 [==============================] - 0s 3ms/step - loss: 0.6934 - accuracy: 0.4400\n",
            "Epoch 78/100\n",
            "10/10 [==============================] - 0s 2ms/step - loss: 0.6931 - accuracy: 0.4333\n",
            "Epoch 79/100\n",
            "10/10 [==============================] - 0s 2ms/step - loss: 0.6928 - accuracy: 0.4333\n",
            "Epoch 80/100\n",
            "10/10 [==============================] - 0s 2ms/step - loss: 0.6926 - accuracy: 0.4533\n",
            "Epoch 81/100\n",
            "10/10 [==============================] - 0s 2ms/step - loss: 0.6923 - accuracy: 0.4567\n",
            "Epoch 82/100\n",
            "10/10 [==============================] - 0s 2ms/step - loss: 0.6921 - accuracy: 0.4667\n",
            "Epoch 83/100\n",
            "10/10 [==============================] - 0s 2ms/step - loss: 0.6919 - accuracy: 0.4733\n",
            "Epoch 84/100\n",
            "10/10 [==============================] - 0s 2ms/step - loss: 0.6917 - accuracy: 0.4767\n",
            "Epoch 85/100\n",
            "10/10 [==============================] - 0s 2ms/step - loss: 0.6915 - accuracy: 0.4833\n",
            "Epoch 86/100\n",
            "10/10 [==============================] - 0s 2ms/step - loss: 0.6913 - accuracy: 0.4933\n",
            "Epoch 87/100\n",
            "10/10 [==============================] - 0s 2ms/step - loss: 0.6911 - accuracy: 0.5000\n",
            "Epoch 88/100\n",
            "10/10 [==============================] - 0s 2ms/step - loss: 0.6910 - accuracy: 0.5133\n",
            "Epoch 89/100\n",
            "10/10 [==============================] - 0s 2ms/step - loss: 0.6908 - accuracy: 0.5200\n",
            "Epoch 90/100\n",
            "10/10 [==============================] - 0s 2ms/step - loss: 0.6907 - accuracy: 0.5200\n",
            "Epoch 91/100\n",
            "10/10 [==============================] - 0s 2ms/step - loss: 0.6905 - accuracy: 0.5233\n",
            "Epoch 92/100\n",
            "10/10 [==============================] - 0s 2ms/step - loss: 0.6904 - accuracy: 0.5300\n",
            "Epoch 93/100\n",
            "10/10 [==============================] - 0s 2ms/step - loss: 0.6902 - accuracy: 0.5433\n",
            "Epoch 94/100\n",
            "10/10 [==============================] - 0s 2ms/step - loss: 0.6901 - accuracy: 0.5500\n",
            "Epoch 95/100\n",
            "10/10 [==============================] - 0s 2ms/step - loss: 0.6900 - accuracy: 0.5667\n",
            "Epoch 96/100\n",
            "10/10 [==============================] - 0s 2ms/step - loss: 0.6899 - accuracy: 0.5667\n",
            "Epoch 97/100\n",
            "10/10 [==============================] - 0s 2ms/step - loss: 0.6897 - accuracy: 0.5700\n",
            "Epoch 98/100\n",
            "10/10 [==============================] - 0s 2ms/step - loss: 0.6896 - accuracy: 0.5767\n",
            "Epoch 99/100\n",
            "10/10 [==============================] - 0s 2ms/step - loss: 0.6895 - accuracy: 0.5833\n",
            "Epoch 100/100\n",
            "10/10 [==============================] - 0s 2ms/step - loss: 0.6893 - accuracy: 0.5933\n"
          ],
          "name": "stdout"
        }
      ]
    },
    {
      "cell_type": "markdown",
      "metadata": {
        "id": "Mgt1PEycjBjm"
      },
      "source": [
        "### Multi-Layer Perceptron\n",
        "Now construct a multi-layer perceptron using. Here are some architecture suggestions: \n",
        "- 2 Hidden Layers\n",
        "- 5-32 Neurons in the Hidden Layers\n",
        "- Your pick of activation function and optimizer\n",
        "- Incorporate the Callback function below into your model\n",
        "\n",
        "Your model should be called `model2` and make sure to save the results of your fit statement to a variable called `h2`. "
      ]
    },
    {
      "cell_type": "code",
      "metadata": {
        "id": "RvsKzKF4jBjn"
      },
      "source": [
        "import tensorflow as tf\n",
        "\n",
        "class myCallback(tf.keras.callbacks.Callback): \n",
        "    def on_epoch_end(self, epoch, logs={}): \n",
        "        if(logs.get('accuracy') > .999):   \n",
        "            self.model.stop_training = True"
      ],
      "execution_count": 16,
      "outputs": []
    },
    {
      "cell_type": "code",
      "metadata": {
        "colab": {
          "base_uri": "https://localhost:8080/"
        },
        "id": "oZg6F-w_jBjn",
        "outputId": "12e61f50-9c33-4404-f3df-fd68182ae928"
      },
      "source": [
        "model2 = Sequential()\n",
        "\n",
        "model2.add(Dense(32, activation='relu', input_dim=2))\n",
        "model2.add(Dense(32, activation='relu'))\n",
        "model2.add(Dense(1, activation='sigmoid'))\n",
        "\n",
        "model2.compile(\n",
        "    optimizer='adam',\n",
        "    loss='binary_crossentropy',\n",
        "    metrics=['accuracy']\n",
        ")\n",
        "\n",
        "h2 = model2.fit(\n",
        "    X, y,\n",
        "    epochs=100,\n",
        "    callbacks=[myCallback()]\n",
        ")"
      ],
      "execution_count": 21,
      "outputs": [
        {
          "output_type": "stream",
          "text": [
            "Epoch 1/100\n",
            "10/10 [==============================] - 0s 2ms/step - loss: 0.6825 - accuracy: 0.5833\n",
            "Epoch 2/100\n",
            "10/10 [==============================] - 0s 2ms/step - loss: 0.6465 - accuracy: 0.6300\n",
            "Epoch 3/100\n",
            "10/10 [==============================] - 0s 2ms/step - loss: 0.6152 - accuracy: 0.7600\n",
            "Epoch 4/100\n",
            "10/10 [==============================] - 0s 2ms/step - loss: 0.5858 - accuracy: 0.8567\n",
            "Epoch 5/100\n",
            "10/10 [==============================] - 0s 2ms/step - loss: 0.5566 - accuracy: 0.8800\n",
            "Epoch 6/100\n",
            "10/10 [==============================] - 0s 2ms/step - loss: 0.5286 - accuracy: 0.8867\n",
            "Epoch 7/100\n",
            "10/10 [==============================] - 0s 2ms/step - loss: 0.5013 - accuracy: 0.8933\n",
            "Epoch 8/100\n",
            "10/10 [==============================] - 0s 2ms/step - loss: 0.4739 - accuracy: 0.9067\n",
            "Epoch 9/100\n",
            "10/10 [==============================] - 0s 2ms/step - loss: 0.4477 - accuracy: 0.9200\n",
            "Epoch 10/100\n",
            "10/10 [==============================] - 0s 2ms/step - loss: 0.4220 - accuracy: 0.9233\n",
            "Epoch 11/100\n",
            "10/10 [==============================] - 0s 2ms/step - loss: 0.3978 - accuracy: 0.9200\n",
            "Epoch 12/100\n",
            "10/10 [==============================] - 0s 2ms/step - loss: 0.3753 - accuracy: 0.9267\n",
            "Epoch 13/100\n",
            "10/10 [==============================] - 0s 2ms/step - loss: 0.3522 - accuracy: 0.9433\n",
            "Epoch 14/100\n",
            "10/10 [==============================] - 0s 2ms/step - loss: 0.3317 - accuracy: 0.9533\n",
            "Epoch 15/100\n",
            "10/10 [==============================] - 0s 2ms/step - loss: 0.3129 - accuracy: 0.9533\n",
            "Epoch 16/100\n",
            "10/10 [==============================] - 0s 3ms/step - loss: 0.2949 - accuracy: 0.9567\n",
            "Epoch 17/100\n",
            "10/10 [==============================] - 0s 2ms/step - loss: 0.2783 - accuracy: 0.9633\n",
            "Epoch 18/100\n",
            "10/10 [==============================] - 0s 2ms/step - loss: 0.2629 - accuracy: 0.9667\n",
            "Epoch 19/100\n",
            "10/10 [==============================] - 0s 2ms/step - loss: 0.2492 - accuracy: 0.9667\n",
            "Epoch 20/100\n",
            "10/10 [==============================] - 0s 2ms/step - loss: 0.2372 - accuracy: 0.9733\n",
            "Epoch 21/100\n",
            "10/10 [==============================] - 0s 2ms/step - loss: 0.2247 - accuracy: 0.9767\n",
            "Epoch 22/100\n",
            "10/10 [==============================] - 0s 2ms/step - loss: 0.2140 - accuracy: 0.9800\n",
            "Epoch 23/100\n",
            "10/10 [==============================] - 0s 2ms/step - loss: 0.2042 - accuracy: 0.9767\n",
            "Epoch 24/100\n",
            "10/10 [==============================] - 0s 2ms/step - loss: 0.1946 - accuracy: 0.9700\n",
            "Epoch 25/100\n",
            "10/10 [==============================] - 0s 2ms/step - loss: 0.1859 - accuracy: 0.9800\n",
            "Epoch 26/100\n",
            "10/10 [==============================] - 0s 2ms/step - loss: 0.1780 - accuracy: 0.9833\n",
            "Epoch 27/100\n",
            "10/10 [==============================] - 0s 2ms/step - loss: 0.1703 - accuracy: 0.9867\n",
            "Epoch 28/100\n",
            "10/10 [==============================] - 0s 2ms/step - loss: 0.1636 - accuracy: 0.9900\n",
            "Epoch 29/100\n",
            "10/10 [==============================] - 0s 2ms/step - loss: 0.1576 - accuracy: 0.9900\n",
            "Epoch 30/100\n",
            "10/10 [==============================] - 0s 2ms/step - loss: 0.1513 - accuracy: 0.9900\n",
            "Epoch 31/100\n",
            "10/10 [==============================] - 0s 2ms/step - loss: 0.1463 - accuracy: 0.9933\n",
            "Epoch 32/100\n",
            "10/10 [==============================] - 0s 2ms/step - loss: 0.1412 - accuracy: 0.9900\n",
            "Epoch 33/100\n",
            "10/10 [==============================] - 0s 2ms/step - loss: 0.1366 - accuracy: 0.9900\n",
            "Epoch 34/100\n",
            "10/10 [==============================] - 0s 2ms/step - loss: 0.1311 - accuracy: 0.9933\n",
            "Epoch 35/100\n",
            "10/10 [==============================] - 0s 2ms/step - loss: 0.1270 - accuracy: 0.9900\n",
            "Epoch 36/100\n",
            "10/10 [==============================] - 0s 2ms/step - loss: 0.1233 - accuracy: 0.9900\n",
            "Epoch 37/100\n",
            "10/10 [==============================] - 0s 2ms/step - loss: 0.1197 - accuracy: 0.9900\n",
            "Epoch 38/100\n",
            "10/10 [==============================] - 0s 2ms/step - loss: 0.1164 - accuracy: 0.9900\n",
            "Epoch 39/100\n",
            "10/10 [==============================] - 0s 2ms/step - loss: 0.1131 - accuracy: 0.9933\n",
            "Epoch 40/100\n",
            "10/10 [==============================] - 0s 2ms/step - loss: 0.1102 - accuracy: 0.9967\n",
            "Epoch 41/100\n",
            "10/10 [==============================] - 0s 2ms/step - loss: 0.1067 - accuracy: 0.9933\n",
            "Epoch 42/100\n",
            "10/10 [==============================] - 0s 2ms/step - loss: 0.1046 - accuracy: 0.9900\n",
            "Epoch 43/100\n",
            "10/10 [==============================] - 0s 3ms/step - loss: 0.1020 - accuracy: 0.9933\n",
            "Epoch 44/100\n",
            "10/10 [==============================] - 0s 2ms/step - loss: 0.0994 - accuracy: 0.9933\n",
            "Epoch 45/100\n",
            "10/10 [==============================] - 0s 3ms/step - loss: 0.0974 - accuracy: 0.9900\n",
            "Epoch 46/100\n",
            "10/10 [==============================] - 0s 2ms/step - loss: 0.0954 - accuracy: 0.9967\n",
            "Epoch 47/100\n",
            "10/10 [==============================] - 0s 2ms/step - loss: 0.0928 - accuracy: 0.9933\n",
            "Epoch 48/100\n",
            "10/10 [==============================] - 0s 2ms/step - loss: 0.0902 - accuracy: 0.9967\n",
            "Epoch 49/100\n",
            "10/10 [==============================] - 0s 2ms/step - loss: 0.0891 - accuracy: 0.9967\n",
            "Epoch 50/100\n",
            "10/10 [==============================] - 0s 2ms/step - loss: 0.0870 - accuracy: 0.9933\n",
            "Epoch 51/100\n",
            "10/10 [==============================] - 0s 2ms/step - loss: 0.0850 - accuracy: 1.0000\n"
          ],
          "name": "stdout"
        }
      ]
    },
    {
      "cell_type": "markdown",
      "metadata": {
        "id": "i37R-7DFjBjn"
      },
      "source": [
        "### Analyze and Compare\n",
        "\n",
        "**Before you Start**: You will need to install an additional library for this next segment. Install the package `mlxtend` into the environment you are using for the sprint challenge.\n",
        "\n",
        "\n",
        "The cells below generate decision boundary plots of your models (`model1` & `model2`). Review the plots."
      ]
    },
    {
      "cell_type": "code",
      "metadata": {
        "id": "Kjp49cDClpZ8"
      },
      "source": [
        "!pip install mlxtend"
      ],
      "execution_count": null,
      "outputs": []
    },
    {
      "cell_type": "code",
      "metadata": {
        "colab": {
          "base_uri": "https://localhost:8080/",
          "height": 444
        },
        "id": "2wAUxKdJjBjn",
        "outputId": "a7674015-2be9-4515-983c-3d937e91dd3f"
      },
      "source": [
        "# Do Not change anything in this cell\n",
        "\n",
        "import matplotlib.pyplot as plt\n",
        "from mlxtend.plotting import plot_decision_regions\n",
        "\n",
        "h = .02  # step size in the mesh\n",
        "\n",
        "# create a mesh to plot in\n",
        "x_min, x_max = X[:, 0].min() - .2, X[:, 0].max() + .2\n",
        "y_min, y_max = X[:, 1].min() - .2, X[:, 1].max() + .2\n",
        "xx, yy = np.meshgrid(np.arange(x_min, x_max, h),\n",
        "                     np.arange(y_min, y_max, h))\n",
        "\n",
        "fig = plt.figure(figsize=(12,6))\n",
        "\n",
        "\n",
        "for clf, hist, name, grd in zip([model1,model2], [h1, h2],['Perceptron', 'Multi-Layer Perceptron'],[1,2]):\n",
        "\n",
        "    ax = plt.subplot(1,2, grd)\n",
        "    fig = plot_decision_regions(X=X, y=y, clf=clf, legend=2)\n",
        "    title = f\"{name} with {hist.history['accuracy'][-1]:,.2f} Accuracy\"\n",
        "    plt.title(title)\n",
        "\n",
        "plt.show()"
      ],
      "execution_count": 22,
      "outputs": [
        {
          "output_type": "stream",
          "text": [
            "/usr/local/lib/python3.6/dist-packages/mlxtend/plotting/decision_regions.py:244: MatplotlibDeprecationWarning: Passing unsupported keyword arguments to axis() will raise a TypeError in 3.3.\n",
            "  ax.axis(xmin=xx.min(), xmax=xx.max(), y_min=yy.min(), y_max=yy.max())\n"
          ],
          "name": "stderr"
        },
        {
          "output_type": "display_data",
          "data": {
            "image/png": "[encoded data removed]",
            "text/plain": [
              "<Figure size 864x432 with 2 Axes>"
            ]
          },
          "metadata": {
            "tags": [],
            "needs_background": "light"
          }
        }
      ]
    },
    {
      "cell_type": "markdown",
      "metadata": {
        "id": "amgFzhJEjBjo"
      },
      "source": [
        "Why does the Perceptron (`model1`) only achieve ~70% accuracy? What is the architectural property of the Multi-Layer Perceptron that allows it more accurately learn the relationship between X and y? \n",
        "\n",
        "Why might this property be useful in more complex data such as images?"
      ]
    },
    {
      "cell_type": "markdown",
      "metadata": {
        "id": "PVJBXYcGm3n6"
      },
      "source": [
        "*The single perceptron only has one neuron, and can thus only distinguish linearly separated classes. As seen in the graphs above, all the perceptron can do is divide the plot along one well-chosen line. Multi-layer networks allow multi-dimensional division of features. This is necessary for complex data such as images, where features are rarely defined along straight lines!*"
      ]
    },
    {
      "cell_type": "markdown",
      "metadata": {
        "id": "URcqxzW_jBjo"
      },
      "source": [
        "## 3. Keras MMP <a id=\"Q3\"></a>\n",
        "\n",
        "Implement a Multilayer Perceptron architecture of your choosing using the Keras library. Train your model and report its baseline accuracy. Then hyperparameter tune at least two parameters and report your model's accuracy.\n",
        "Use the Heart Disease Dataset (binary classification)\n",
        "Use an appropriate loss function for a binary classification task\n",
        "Use an appropriate activation function on the final layer of your network.\n",
        "Train your model using verbose output for ease of grading.\n",
        "Use GridSearchCV or RandomSearchCV to hyperparameter tune your model. (for at least two hyperparameters)\n",
        "When hyperparameter tuning, show you work by adding code cells for each new experiment.\n",
        "Report the accuracy for each combination of hyperparameters as you test them so that we can easily see which resulted in the highest accuracy.\n",
        "You must hyperparameter tune at least 3 parameters in order to get a 3 on this section."
      ]
    },
    {
      "cell_type": "code",
      "metadata": {
        "inputHidden": false,
        "jupyter": {
          "outputs_hidden": false
        },
        "outputHidden": false,
        "colab": {
          "base_uri": "https://localhost:8080/",
          "height": 218
        },
        "id": "33joAxFRjBjo",
        "outputId": "6e3c13bf-ac75-427f-a5de-61fafed05bb0"
      },
      "source": [
        "import pandas as pd\n",
        "from sklearn.preprocessing import StandardScaler\n",
        "from sklearn.model_selection import train_test_split\n",
        "from sklearn.pipeline import Pipeline\n",
        "from tensorflow.keras.callbacks import EarlyStopping\n",
        "\n",
        "df = pd.read_csv('https://raw.githubusercontent.com/ryanleeallred/datasets/master/heart.csv')\n",
        "df = df.sample(frac=1)\n",
        "print(df.shape)\n",
        "df.head()"
      ],
      "execution_count": 44,
      "outputs": [
        {
          "output_type": "stream",
          "text": [
            "(303, 14)\n"
          ],
          "name": "stdout"
        },
        {
          "output_type": "execute_result",
          "data": {
            "text/html": [
              "<div>\n",
              "<style scoped>\n",
              "    .dataframe tbody tr th:only-of-type {\n",
              "        vertical-align: middle;\n",
              "    }\n",
              "\n",
              "    .dataframe tbody tr th {\n",
              "        vertical-align: top;\n",
              "    }\n",
              "\n",
              "    .dataframe thead th {\n",
              "        text-align: right;\n",
              "    }\n",
              "</style>\n",
              "<table border=\"1\" class=\"dataframe\">\n",
              "  <thead>\n",
              "    <tr style=\"text-align: right;\">\n",
              "      <th></th>\n",
              "      <th>age</th>\n",
              "      <th>sex</th>\n",
              "      <th>cp</th>\n",
              "      <th>trestbps</th>\n",
              "      <th>chol</th>\n",
              "      <th>fbs</th>\n",
              "      <th>restecg</th>\n",
              "      <th>thalach</th>\n",
              "      <th>exang</th>\n",
              "      <th>oldpeak</th>\n",
              "      <th>slope</th>\n",
              "      <th>ca</th>\n",
              "      <th>thal</th>\n",
              "      <th>target</th>\n",
              "    </tr>\n",
              "  </thead>\n",
              "  <tbody>\n",
              "    <tr>\n",
              "      <th>8</th>\n",
              "      <td>52</td>\n",
              "      <td>1</td>\n",
              "      <td>2</td>\n",
              "      <td>172</td>\n",
              "      <td>199</td>\n",
              "      <td>1</td>\n",
              "      <td>1</td>\n",
              "      <td>162</td>\n",
              "      <td>0</td>\n",
              "      <td>0.5</td>\n",
              "      <td>2</td>\n",
              "      <td>0</td>\n",
              "      <td>3</td>\n",
              "      <td>1</td>\n",
              "    </tr>\n",
              "    <tr>\n",
              "      <th>176</th>\n",
              "      <td>60</td>\n",
              "      <td>1</td>\n",
              "      <td>0</td>\n",
              "      <td>117</td>\n",
              "      <td>230</td>\n",
              "      <td>1</td>\n",
              "      <td>1</td>\n",
              "      <td>160</td>\n",
              "      <td>1</td>\n",
              "      <td>1.4</td>\n",
              "      <td>2</td>\n",
              "      <td>2</td>\n",
              "      <td>3</td>\n",
              "      <td>0</td>\n",
              "    </tr>\n",
              "    <tr>\n",
              "      <th>88</th>\n",
              "      <td>54</td>\n",
              "      <td>0</td>\n",
              "      <td>2</td>\n",
              "      <td>110</td>\n",
              "      <td>214</td>\n",
              "      <td>0</td>\n",
              "      <td>1</td>\n",
              "      <td>158</td>\n",
              "      <td>0</td>\n",
              "      <td>1.6</td>\n",
              "      <td>1</td>\n",
              "      <td>0</td>\n",
              "      <td>2</td>\n",
              "      <td>1</td>\n",
              "    </tr>\n",
              "    <tr>\n",
              "      <th>168</th>\n",
              "      <td>63</td>\n",
              "      <td>1</td>\n",
              "      <td>0</td>\n",
              "      <td>130</td>\n",
              "      <td>254</td>\n",
              "      <td>0</td>\n",
              "      <td>0</td>\n",
              "      <td>147</td>\n",
              "      <td>0</td>\n",
              "      <td>1.4</td>\n",
              "      <td>1</td>\n",
              "      <td>1</td>\n",
              "      <td>3</td>\n",
              "      <td>0</td>\n",
              "    </tr>\n",
              "    <tr>\n",
              "      <th>113</th>\n",
              "      <td>43</td>\n",
              "      <td>1</td>\n",
              "      <td>0</td>\n",
              "      <td>110</td>\n",
              "      <td>211</td>\n",
              "      <td>0</td>\n",
              "      <td>1</td>\n",
              "      <td>161</td>\n",
              "      <td>0</td>\n",
              "      <td>0.0</td>\n",
              "      <td>2</td>\n",
              "      <td>0</td>\n",
              "      <td>3</td>\n",
              "      <td>1</td>\n",
              "    </tr>\n",
              "  </tbody>\n",
              "</table>\n",
              "</div>"
            ],
            "text/plain": [
              "     age  sex  cp  trestbps  chol  fbs  ...  exang  oldpeak  slope  ca  thal  target\n",
              "8     52    1   2       172   199    1  ...      0      0.5      2   0     3       1\n",
              "176   60    1   0       117   230    1  ...      1      1.4      2   2     3       0\n",
              "88    54    0   2       110   214    0  ...      0      1.6      1   0     2       1\n",
              "168   63    1   0       130   254    0  ...      0      1.4      1   1     3       0\n",
              "113   43    1   0       110   211    0  ...      0      0.0      2   0     3       1\n",
              "\n",
              "[5 rows x 14 columns]"
            ]
          },
          "metadata": {
            "tags": []
          },
          "execution_count": 44
        }
      ]
    },
    {
      "cell_type": "code",
      "metadata": {
        "colab": {
          "base_uri": "https://localhost:8080/"
        },
        "id": "J3hZLYTBjBjp",
        "outputId": "8f058f4d-59b6-4cd4-fd0f-efcb205394dc"
      },
      "source": [
        "# Split data into features and target, and check baseline.\r\n",
        "\r\n",
        "X = df.drop(columns='target')\r\n",
        "y = df['target']\r\n",
        "y.value_counts(normalize=True)"
      ],
      "execution_count": 28,
      "outputs": [
        {
          "output_type": "execute_result",
          "data": {
            "text/plain": [
              "1    0.544554\n",
              "0    0.455446\n",
              "Name: target, dtype: float64"
            ]
          },
          "metadata": {
            "tags": []
          },
          "execution_count": 28
        }
      ]
    },
    {
      "cell_type": "code",
      "metadata": {
        "id": "DQYQ8NJTod33"
      },
      "source": [
        "# Scale features.\r\n",
        "\r\n",
        "scaler = StandardScaler()\r\n",
        "XT = scaler.fit_transform(X)"
      ],
      "execution_count": 30,
      "outputs": []
    },
    {
      "cell_type": "code",
      "metadata": {
        "id": "JFjmWVIZoyfE"
      },
      "source": [
        "# Split into training and validation data.\r\n",
        "\r\n",
        "XT_train, XT_val, y_train, y_val = train_test_split(XT, y, test_size=42, random_state=42)"
      ],
      "execution_count": 39,
      "outputs": []
    },
    {
      "cell_type": "code",
      "metadata": {
        "colab": {
          "base_uri": "https://localhost:8080/"
        },
        "id": "5aw_OzyypUWH",
        "outputId": "e78ab564-d324-4b68-c6ca-f97696fc8c25"
      },
      "source": [
        "XT_train.shape"
      ],
      "execution_count": 40,
      "outputs": [
        {
          "output_type": "execute_result",
          "data": {
            "text/plain": [
              "(261, 13)"
            ]
          },
          "metadata": {
            "tags": []
          },
          "execution_count": 40
        }
      ]
    },
    {
      "cell_type": "code",
      "metadata": {
        "id": "1OLzcwjhqOwy"
      },
      "source": [
        "# Callbacks\r\n",
        "\r\n",
        "from IPython import display\r\n",
        "\r\n",
        "class ClearTrainingOutput(tf.keras.callbacks.Callback):\r\n",
        "  def on_train_end(*args, **kwargs):\r\n",
        "    display.clear_output(wait = True)\r\n",
        "\r\n",
        "early_stop = EarlyStopping(\r\n",
        "    monitor='val_accuracy',\r\n",
        "    patience=10,\r\n",
        "    restore_best_weights=True\r\n",
        ")"
      ],
      "execution_count": 58,
      "outputs": []
    },
    {
      "cell_type": "code",
      "metadata": {
        "colab": {
          "base_uri": "https://localhost:8080/"
        },
        "id": "jCcQ3PwMpC1K",
        "outputId": "0106d99d-7a7a-4ba7-9fd2-444b8fbdd4d2"
      },
      "source": [
        "# Basic model, no tuning.\r\n",
        "\r\n",
        "def build():\r\n",
        "    model = Sequential()\r\n",
        "\r\n",
        "    model.add(Dense(128, activation='relu', input_dim=13))\r\n",
        "    model.add(Dense(128, activation='relu'))\r\n",
        "    model.add(Dense(1, activation='sigmoid'))\r\n",
        "\r\n",
        "    model.compile(\r\n",
        "        optimizer='adam',\r\n",
        "        loss='binary_crossentropy',\r\n",
        "        metrics=['accuracy']\r\n",
        "    )\r\n",
        "    return model\r\n",
        "\r\n",
        "model = build()\r\n",
        "\r\n",
        "h = model.fit(\r\n",
        "    XT_train, y_train,\r\n",
        "    epochs=50,\r\n",
        "    validation_data=(XT_val, y_val),\r\n",
        "    callbacks=[early_stop]\r\n",
        ")"
      ],
      "execution_count": 53,
      "outputs": [
        {
          "output_type": "stream",
          "text": [
            "Epoch 1/50\n",
            "9/9 [==============================] - 0s 13ms/step - loss: 0.6168 - accuracy: 0.7050 - val_loss: 0.4713 - val_accuracy: 0.8333\n",
            "Epoch 2/50\n",
            "9/9 [==============================] - 0s 4ms/step - loss: 0.4696 - accuracy: 0.8314 - val_loss: 0.3829 - val_accuracy: 0.8095\n",
            "Epoch 3/50\n",
            "9/9 [==============================] - 0s 4ms/step - loss: 0.3966 - accuracy: 0.8506 - val_loss: 0.3444 - val_accuracy: 0.8095\n",
            "Epoch 4/50\n",
            "9/9 [==============================] - 0s 4ms/step - loss: 0.3542 - accuracy: 0.8621 - val_loss: 0.3285 - val_accuracy: 0.8095\n",
            "Epoch 5/50\n",
            "9/9 [==============================] - 0s 4ms/step - loss: 0.3364 - accuracy: 0.8697 - val_loss: 0.3269 - val_accuracy: 0.8095\n",
            "Epoch 6/50\n",
            "9/9 [==============================] - 0s 4ms/step - loss: 0.3235 - accuracy: 0.8812 - val_loss: 0.3313 - val_accuracy: 0.8333\n",
            "Epoch 7/50\n",
            "9/9 [==============================] - 0s 4ms/step - loss: 0.3083 - accuracy: 0.8697 - val_loss: 0.3447 - val_accuracy: 0.8333\n",
            "Epoch 8/50\n",
            "9/9 [==============================] - 0s 4ms/step - loss: 0.2999 - accuracy: 0.8812 - val_loss: 0.3416 - val_accuracy: 0.8571\n",
            "Epoch 9/50\n",
            "9/9 [==============================] - 0s 4ms/step - loss: 0.2858 - accuracy: 0.8851 - val_loss: 0.3424 - val_accuracy: 0.8810\n",
            "Epoch 10/50\n",
            "9/9 [==============================] - 0s 4ms/step - loss: 0.2773 - accuracy: 0.8927 - val_loss: 0.3392 - val_accuracy: 0.8333\n",
            "Epoch 11/50\n",
            "9/9 [==============================] - 0s 4ms/step - loss: 0.2696 - accuracy: 0.8966 - val_loss: 0.3410 - val_accuracy: 0.8571\n",
            "Epoch 12/50\n",
            "9/9 [==============================] - 0s 4ms/step - loss: 0.2580 - accuracy: 0.9004 - val_loss: 0.3477 - val_accuracy: 0.8571\n",
            "Epoch 13/50\n",
            "9/9 [==============================] - 0s 4ms/step - loss: 0.2487 - accuracy: 0.9042 - val_loss: 0.3472 - val_accuracy: 0.8571\n",
            "Epoch 14/50\n",
            "9/9 [==============================] - 0s 4ms/step - loss: 0.2399 - accuracy: 0.9080 - val_loss: 0.3727 - val_accuracy: 0.8810\n",
            "Epoch 15/50\n",
            "9/9 [==============================] - 0s 4ms/step - loss: 0.2306 - accuracy: 0.9042 - val_loss: 0.3745 - val_accuracy: 0.8571\n",
            "Epoch 16/50\n",
            "9/9 [==============================] - 0s 4ms/step - loss: 0.2227 - accuracy: 0.9080 - val_loss: 0.3670 - val_accuracy: 0.8810\n",
            "Epoch 17/50\n",
            "9/9 [==============================] - 0s 4ms/step - loss: 0.2144 - accuracy: 0.9195 - val_loss: 0.3839 - val_accuracy: 0.8810\n",
            "Epoch 18/50\n",
            "9/9 [==============================] - 0s 5ms/step - loss: 0.2070 - accuracy: 0.9272 - val_loss: 0.3858 - val_accuracy: 0.8571\n",
            "Epoch 19/50\n",
            "9/9 [==============================] - 0s 5ms/step - loss: 0.1969 - accuracy: 0.9387 - val_loss: 0.4169 - val_accuracy: 0.8810\n"
          ],
          "name": "stdout"
        }
      ]
    },
    {
      "cell_type": "code",
      "metadata": {
        "colab": {
          "base_uri": "https://localhost:8080/"
        },
        "id": "6HH3qO8DrIPK",
        "outputId": "24e00630-3745-468e-9eca-5932d964a799"
      },
      "source": [
        "model.evaluate(XT_val, y_val)"
      ],
      "execution_count": 54,
      "outputs": [
        {
          "output_type": "stream",
          "text": [
            "2/2 [==============================] - 0s 3ms/step - loss: 0.3424 - accuracy: 0.8810\n"
          ],
          "name": "stdout"
        },
        {
          "output_type": "execute_result",
          "data": {
            "text/plain": [
              "[0.34239572286605835, 0.8809523582458496]"
            ]
          },
          "metadata": {
            "tags": []
          },
          "execution_count": 54
        }
      ]
    },
    {
      "cell_type": "markdown",
      "metadata": {
        "id": "zuEpWac-qBQU"
      },
      "source": [
        "*Val accuracy (no tuning) - .881*"
      ]
    },
    {
      "cell_type": "code",
      "metadata": {
        "id": "s9bHEZ-8pdGQ"
      },
      "source": [
        "!pip install keras-tuner"
      ],
      "execution_count": null,
      "outputs": []
    },
    {
      "cell_type": "code",
      "metadata": {
        "colab": {
          "base_uri": "https://localhost:8080/"
        },
        "id": "gNykFQhhrX8p",
        "outputId": "5c274b77-0f09-4564-9aea-7306dc4fc881"
      },
      "source": [
        "# Using kerastuner to tune *number of units*, *activation function*,\r\n",
        "# and *optimizer*.\r\n",
        "\r\n",
        "import kerastuner as kt\r\n",
        "\r\n",
        "def build(hp):\r\n",
        "    hp_units = hp.Int('units', 64, 256, 32)\r\n",
        "    hp_act = hp.Choice('activation', ['relu', 'elu', 'selu'])\r\n",
        "    hp_opt = hp.Choice('optimizer', ['adam', 'nadam'])\r\n",
        "\r\n",
        "    model = Sequential()\r\n",
        "\r\n",
        "    model.add(Dense(hp_units, activation=hp_act, input_dim=13))\r\n",
        "    model.add(Dropout(.3))\r\n",
        "    model.add(Dense(hp_units, activation=hp_act))\r\n",
        "    model.add(Dropout(.3))\r\n",
        "    model.add(Dense(1, activation='sigmoid'))\r\n",
        "\r\n",
        "    model.compile(\r\n",
        "        optimizer=hp_opt,\r\n",
        "        loss='binary_crossentropy',\r\n",
        "        metrics=['accuracy']\r\n",
        "    )\r\n",
        "    return model\r\n",
        "\r\n",
        "tuner = kt.BayesianOptimization(\r\n",
        "    build,\r\n",
        "    objective = 'val_accuracy', \r\n",
        "    max_trials = 30,\r\n",
        "    directory = 'my_dir',\r\n",
        "    project_name = 'tune3'\r\n",
        ")\r\n",
        "\r\n",
        "tuner.search(\r\n",
        "    XT_train, y_train,\r\n",
        "    epochs=10,\r\n",
        "    validation_data=(XT_val, y_val),\r\n",
        "    callbacks=[ClearTrainingOutput()]\r\n",
        ")"
      ],
      "execution_count": 75,
      "outputs": [
        {
          "output_type": "stream",
          "text": [
            "Trial 30 Complete [00h 00m 01s]\n",
            "val_accuracy: 0.9047619104385376\n",
            "\n",
            "Best val_accuracy So Far: 0.9285714030265808\n",
            "Total elapsed time: 00h 01m 01s\n",
            "INFO:tensorflow:Oracle triggered exit\n"
          ],
          "name": "stdout"
        }
      ]
    },
    {
      "cell_type": "markdown",
      "metadata": {
        "id": "1K6pU0OGuUvt"
      },
      "source": [
        "*With tuning, I was able to get **.9285** val accuracy. That's significantly better than the basic model!*"
      ]
    },
    {
      "cell_type": "code",
      "metadata": {
        "colab": {
          "base_uri": "https://localhost:8080/"
        },
        "id": "bSt7U9ZmsLr2",
        "outputId": "4019031f-d1a6-4f39-ff15-d7bdfa08bb6c"
      },
      "source": [
        "# Results summary of best 10 trials\r\n",
        "\r\n",
        "tuner.results_summary()"
      ],
      "execution_count": 76,
      "outputs": [
        {
          "output_type": "stream",
          "text": [
            "Results summary\n",
            "Results in my_dir/tune3\n",
            "Showing 10 best trials\n",
            "Objective(name='val_accuracy', direction='max')\n",
            "Trial summary\n",
            "Hyperparameters:\n",
            "units: 256\n",
            "activation: selu\n",
            "optimizer: nadam\n",
            "Score: 0.9285714030265808\n",
            "Trial summary\n",
            "Hyperparameters:\n",
            "units: 192\n",
            "activation: selu\n",
            "optimizer: nadam\n",
            "Score: 0.9047619104385376\n",
            "Trial summary\n",
            "Hyperparameters:\n",
            "units: 256\n",
            "activation: relu\n",
            "optimizer: nadam\n",
            "Score: 0.9047619104385376\n",
            "Trial summary\n",
            "Hyperparameters:\n",
            "units: 256\n",
            "activation: selu\n",
            "optimizer: adam\n",
            "Score: 0.9047619104385376\n",
            "Trial summary\n",
            "Hyperparameters:\n",
            "units: 256\n",
            "activation: selu\n",
            "optimizer: nadam\n",
            "Score: 0.9047619104385376\n",
            "Trial summary\n",
            "Hyperparameters:\n",
            "units: 256\n",
            "activation: selu\n",
            "optimizer: nadam\n",
            "Score: 0.9047619104385376\n",
            "Trial summary\n",
            "Hyperparameters:\n",
            "units: 256\n",
            "activation: selu\n",
            "optimizer: nadam\n",
            "Score: 0.9047619104385376\n",
            "Trial summary\n",
            "Hyperparameters:\n",
            "units: 256\n",
            "activation: selu\n",
            "optimizer: nadam\n",
            "Score: 0.9047619104385376\n",
            "Trial summary\n",
            "Hyperparameters:\n",
            "units: 256\n",
            "activation: selu\n",
            "optimizer: nadam\n",
            "Score: 0.9047619104385376\n",
            "Trial summary\n",
            "Hyperparameters:\n",
            "units: 256\n",
            "activation: selu\n",
            "optimizer: nadam\n",
            "Score: 0.9047619104385376\n"
          ],
          "name": "stdout"
        }
      ]
    }
  ]
}